{
 "cells": [
  {
   "cell_type": "markdown",
   "metadata": {},
   "source": [
    "# String concatenation"
   ]
  },
  {
   "cell_type": "code",
   "execution_count": null,
   "metadata": {},
   "outputs": [],
   "source": [
    "my_string1 = \"Awesome day today\"\n",
    "my_string2 = \"for biking\"\n",
    "print(my_string1+\" \"+my_string2)"
   ]
  },
  {
   "cell_type": "code",
   "execution_count": null,
   "metadata": {},
   "outputs": [],
   "source": [
    "my_string = \"Awesome day\"\n",
    "print(my_string[1:7])  "
   ]
  },
  {
   "cell_type": "code",
   "execution_count": null,
   "metadata": {},
   "outputs": [],
   "source": [
    "print(my_string[:5]) \n",
    "print(my_string[5:])"
   ]
  },
  {
   "cell_type": "markdown",
   "metadata": {},
   "source": [
    "# Stride "
   ]
  },
  {
   "cell_type": "code",
   "execution_count": null,
   "metadata": {},
   "outputs": [],
   "source": [
    "my_string = \"Awesomeday\"\n",
    "             #0123456789\n",
    "print(my_string[::3]) #Aoa"
   ]
  },
  {
   "cell_type": "markdown",
   "metadata": {},
   "source": [
    "# Splitting"
   ]
  },
  {
   "cell_type": "code",
   "execution_count": null,
   "metadata": {},
   "outputs": [],
   "source": [
    "my_string = \"This string $will be $split\"\n",
    "my_string.split(sep=\"s\")"
   ]
  },
  {
   "cell_type": "code",
   "execution_count": null,
   "metadata": {},
   "outputs": [],
   "source": [
    "my_string = \"This string will be split\"\n",
    "my_string.split(sep=\" \")"
   ]
  },
  {
   "cell_type": "code",
   "execution_count": null,
   "metadata": {},
   "outputs": [],
   "source": [
    "my_string = \"This string will be split\"\n",
    "my_string.split(sep=\" \",maxsplit=2)"
   ]
  },
  {
   "cell_type": "code",
   "execution_count": null,
   "metadata": {},
   "outputs": [],
   "source": [
    "my_string.rsplit(sep=\" \", maxsplit=2)"
   ]
  },
  {
   "cell_type": "code",
   "execution_count": null,
   "metadata": {},
   "outputs": [],
   "source": [
    "# Splitlines\n",
    "my_string =\"This string will be split\\nin two\"\n",
    "my_string.splitlines()\n",
    "\n",
    "\n"
   ]
  },
  {
   "cell_type": "code",
   "execution_count": null,
   "metadata": {},
   "outputs": [],
   "source": [
    "print (\"Aakash Rao\")"
   ]
  },
  {
   "cell_type": "code",
   "execution_count": null,
   "metadata": {},
   "outputs": [],
   "source": [
    "print (\"Aakash\\nRao\")"
   ]
  },
  {
   "cell_type": "markdown",
   "metadata": {},
   "source": [
    "# Joining \n",
    "Concatenate strings from list or another iterable"
   ]
  },
  {
   "cell_type": "code",
   "execution_count": null,
   "metadata": {},
   "outputs": [],
   "source": [
    "my_list = [\"this\", \"would\", \"be\", \"a\", \"string\"]\n",
    "print(\" \".join(my_list))"
   ]
  },
  {
   "cell_type": "code",
   "execution_count": null,
   "metadata": {},
   "outputs": [],
   "source": [
    "type(my_list)"
   ]
  },
  {
   "cell_type": "markdown",
   "metadata": {},
   "source": [
    "# Stripping characters\n",
    "Strips characters from left to right"
   ]
  },
  {
   "cell_type": "code",
   "execution_count": null,
   "metadata": {},
   "outputs": [],
   "source": [
    "my_string = \"        This string will be stripped\\n\"\n",
    "print (my_string)\n",
    "print(my_string.strip())"
   ]
  },
  {
   "cell_type": "code",
   "execution_count": null,
   "metadata": {},
   "outputs": [],
   "source": [
    "my_string = \" This string will be stripped\\n\"\n",
    "print (my_string)\n",
    "my_string.rstrip()"
   ]
  },
  {
   "cell_type": "markdown",
   "metadata": {},
   "source": [
    "# Finding substrings"
   ]
  },
  {
   "cell_type": "code",
   "execution_count": null,
   "metadata": {},
   "outputs": [],
   "source": [
    "my_string = \"Where's Waldo? dfg vnkd, vkdnmdnmfdkjdk vknvnkvknvkvnvnkd vdmvdvd\"\n",
    "my_string.find(\"Waldo\")"
   ]
  },
  {
   "cell_type": "markdown",
   "metadata": {},
   "source": [
    "# Index Functions"
   ]
  },
  {
   "cell_type": "code",
   "execution_count": null,
   "metadata": {},
   "outputs": [],
   "source": [
    "my_string = \"Where's Waldo?\"\n",
    "print (5/0)\n",
    "my_string.index(\"aakash\")\n",
    "print (\"python\")"
   ]
  },
  {
   "cell_type": "code",
   "execution_count": null,
   "metadata": {},
   "outputs": [],
   "source": [
    "my_string = \"Where's Waldo?\"\n",
    "try:\n",
    "    my_string.index(\"aakash\")\n",
    "except ValueError:\n",
    "    print(\"string not found \")\n",
    "\n",
    "print (\"python\")"
   ]
  },
  {
   "cell_type": "markdown",
   "metadata": {},
   "source": [
    "# Counting occurrences"
   ]
  },
  {
   "cell_type": "code",
   "execution_count": null,
   "metadata": {},
   "outputs": [],
   "source": [
    "my_string = \"How many frkuitspyvhj do you have in your fruit basket?\"\n",
    "my_string.count(\"fruit\")"
   ]
  },
  {
   "cell_type": "code",
   "execution_count": null,
   "metadata": {},
   "outputs": [],
   "source": [
    "my_string.count(\"fruit\", 0, 16)"
   ]
  },
  {
   "cell_type": "markdown",
   "metadata": {},
   "source": [
    "# Replacing substrings\n",
    "Replace occurrences of substring with new substring."
   ]
  },
  {
   "cell_type": "code",
   "execution_count": null,
   "metadata": {},
   "outputs": [],
   "source": [
    "my_string = \"The red house is between the blue house and the old house\"\n",
    "print(my_string.replace(\"house\", \"car\"))"
   ]
  },
  {
   "cell_type": "markdown",
   "metadata": {},
   "source": [
    "# Regular Expressions\n",
    "String containing a combination of normal characters and special metacharacters that\n",
    "describes patterns to find text or positions within a text\n",
    "metacharacters represent types of characters (\\d,\\s,\\w) or ideas ({3,10})"
   ]
  },
  {
   "cell_type": "code",
   "execution_count": null,
   "metadata": {},
   "outputs": [],
   "source": [
    "# Find all matches of pattern\n",
    "import re \n",
    "re.findall(r\"a\", \"Love #movies! I had fun yesterday going to the #movies\")"
   ]
  },
  {
   "cell_type": "code",
   "execution_count": null,
   "metadata": {},
   "outputs": [],
   "source": [
    "# Split string at each match\n",
    "re.split(r\"!\", \"Nice Place to eat! I'll come back! Excellent meat!\")"
   ]
  },
  {
   "cell_type": "code",
   "execution_count": null,
   "metadata": {},
   "outputs": [],
   "source": [
    "# Replace one or many matches with a string\n",
    "re.sub(r\"yellow\", \"nice\", \"I have a yellow car and a yellow house in a yellow neighborhood\")"
   ]
  },
  {
   "cell_type": "code",
   "execution_count": null,
   "metadata": {},
   "outputs": [],
   "source": [
    "#\\d means digit\n",
    "#\\D means non-digit\n",
    "import re\n",
    "re.findall(r\"User\\d\", \"The winners are: User9, UserN, User8, User5,Reuse5\")"
   ]
  },
  {
   "cell_type": "code",
   "execution_count": null,
   "metadata": {},
   "outputs": [],
   "source": [
    "my_string = \"The winners are: User9, UserN, User8\"\n",
    "re.findall(r\"User\\D\",my_string)\n"
   ]
  },
  {
   "cell_type": "code",
   "execution_count": null,
   "metadata": {},
   "outputs": [],
   "source": [
    "re.findall(r\"User\\d\", \"The winners are: User9, UserN, User8, User#\")"
   ]
  },
  {
   "cell_type": "code",
   "execution_count": null,
   "metadata": {},
   "outputs": [],
   "source": [
    "# \\w means words \n",
    "# \\W means non-word \n",
    "re.findall(r\"User\\w\", \"The winners are: User9, UserN, User8\")"
   ]
  },
  {
   "cell_type": "code",
   "execution_count": null,
   "metadata": {},
   "outputs": [],
   "source": [
    "re.findall(r\"\\W\\d\", \"This skirt is on sale, only $5 today!\")"
   ]
  },
  {
   "cell_type": "code",
   "execution_count": null,
   "metadata": {},
   "outputs": [],
   "source": [
    "# \\s means whitespace\n",
    "# \\S means non-white space\n",
    "import re\n",
    "re.findall(r\"Data\\sScience\", \"I enjoy learning Data Science\")"
   ]
  },
  {
   "cell_type": "code",
   "execution_count": 1,
   "metadata": {},
   "outputs": [
    {
     "data": {
      "text/plain": [
       "'I really like ice cream ice cream ice cream'"
      ]
     },
     "execution_count": 1,
     "metadata": {},
     "output_type": "execute_result"
    }
   ],
   "source": [
    "import re\n",
    "re.sub(r\"ice\\Scream\", \"ice cream\", \"I really like ice-cream ice,cream ice$cream\")"
   ]
  },
  {
   "cell_type": "code",
   "execution_count": 4,
   "metadata": {},
   "outputs": [
    {
     "data": {
      "text/plain": [
       "<re.Match object; span=(1, 13), match='akashabc1234'>"
      ]
     },
     "execution_count": 4,
     "metadata": {},
     "output_type": "execute_result"
    }
   ],
   "source": [
    "import re\n",
    "password = \"xyzabcdedfdfdfd1234fgh\"\n",
    "re.search(r\"\\w\\w\\w\\w\\w\\w\\w\\w\\d\\d\\d\\d\", password)"
   ]
  },
  {
   "cell_type": "code",
   "execution_count": 8,
   "metadata": {},
   "outputs": [
    {
     "data": {
      "text/plain": [
       "<re.Match object; span=(1, 13), match='xyzabcde1234'>"
      ]
     },
     "execution_count": 8,
     "metadata": {},
     "output_type": "execute_result"
    }
   ],
   "source": [
    "import re \n",
    "password =\"1xyzabcde1234fgh4684748ifdfhgfhgkfgjkf\"\n",
    "re.search(r\"\\w{8}\\d{4}\", password)"
   ]
  },
  {
   "cell_type": "code",
   "execution_count": 9,
   "metadata": {},
   "outputs": [
    {
     "data": {
      "text/plain": [
       "[' ', ' ', ' ', ' ', ' ', ' ', ' ']"
      ]
     },
     "execution_count": 9,
     "metadata": {},
     "output_type": "execute_result"
    }
   ],
   "source": [
    "text = \"Date of start: 4-3. Date of registration: 10-04.\"\n",
    "re.findall(r\" \", text)"
   ]
  },
  {
   "cell_type": "code",
   "execution_count": 16,
   "metadata": {},
   "outputs": [
    {
     "data": {
      "text/plain": [
       "['4-3', '10-04', '100-020', '12-344565666843566789']"
      ]
     },
     "execution_count": 16,
     "metadata": {},
     "output_type": "execute_result"
    }
   ],
   "source": [
    "text =\"Date of start: 4-3. Date of registration: 10-04. 100-020 12-344565666843566789\"\n",
    "re.findall(r\"\\d+-\\d+\", text)\n",
    "\n",
    "\n",
    "#re.findall(r\"\\d+-\\d+\", text)\n",
    "# 4-3 10-04"
   ]
  },
  {
   "cell_type": "code",
   "execution_count": null,
   "metadata": {},
   "outputs": [],
   "source": [
    "text =\"Date of start: 4-3. Date of registration: 10-04.\"\n",
    "re.findall(r\"\\d+-\\d+\", text)"
   ]
  },
  {
   "cell_type": "code",
   "execution_count": null,
   "metadata": {},
   "outputs": [],
   "source": [
    "my_string = \"The concert was amazing! @ameli!a @joh&&n @mary90\"\n",
    "re.findall(r\"@\\w+\\W*\\w+\", my_string)"
   ]
  },
  {
   "cell_type": "code",
   "execution_count": null,
   "metadata": {},
   "outputs": [],
   "source": [
    "# Zero times or once: '?'\n",
    "text = \"The color of this image is amazing. However, the colour blue could be brighter.\"\n",
    "re.findall(r\"colou?r\", text)"
   ]
  },
  {
   "cell_type": "code",
   "execution_count": null,
   "metadata": {},
   "outputs": [],
   "source": [
    "# n times at least, m times at most :{n, m}\n",
    "phone_number =\"John: 1-966-847-3131 Michelle: 54-908-42-42424\"\n",
    "re.findall(r\"\\d{1,2}-\\d{3}-\\d{2,3}-\\d{4,}\", phone_number)"
   ]
  },
  {
   "cell_type": "code",
   "execution_count": null,
   "metadata": {},
   "outputs": [],
   "source": [
    "import re\n",
    "re.search(r\"\\d{4}\",\"450 people attend the show\")"
   ]
  },
  {
   "cell_type": "code",
   "execution_count": null,
   "metadata": {},
   "outputs": [],
   "source": [
    "#my_links =\"Just check out this link: www.amazingpics.com It has amazing photos! www.abc.in\"\n",
    "#re.findall(r\"www.+com\", my_links)"
   ]
  },
  {
   "cell_type": "code",
   "execution_count": null,
   "metadata": {},
   "outputs": [],
   "source": [
    "# Start of the string: ^\n",
    "import re\n",
    "my_string = \"the 80s music was much better that the 90s\"\n",
    "re.findall(r\"the\\s\\d+s\", my_string)\n"
   ]
  },
  {
   "cell_type": "code",
   "execution_count": null,
   "metadata": {},
   "outputs": [],
   "source": [
    "re.findall(r\"^the\\s\\d+s\", my_string)"
   ]
  },
  {
   "cell_type": "code",
   "execution_count": null,
   "metadata": {},
   "outputs": [],
   "source": [
    "# End of the string:\n",
    "my_string =\"the 80s music hits were much better that the 90s\"\n",
    "re.findall(r\"the\\s\\d+s$\", my_string)"
   ]
  },
  {
   "cell_type": "code",
   "execution_count": null,
   "metadata": {},
   "outputs": [],
   "source": [
    "# Character : |\n",
    "my_string = \"Elephants are the world's largest land animal! I would love to see an elephant one day\"\n",
    "re.findall(r\"Elephant|elephant\",my_string)"
   ]
  },
  {
   "cell_type": "code",
   "execution_count": null,
   "metadata": {},
   "outputs": [],
   "source": [
    "# Set of characters: [ ]\n",
    "import re\n",
    "my_string = \"Yesterday I spent my afternoon with my friends: maryjohn2k Clary3k Djhinchak15k abc14\"\n",
    "re.findall(r\"[a-zA-Z]+\\d+\\w+\", my_string)"
   ]
  },
  {
   "cell_type": "code",
   "execution_count": null,
   "metadata": {},
   "outputs": [],
   "source": [
    "# Set of characters: []\n",
    "my_string = \"Yesterday I spent my afternoon with my friends: maryjohn25 Clary367y Dhingchak15 Minn9ow\"\n",
    "re.findall(r\"[a-zA-Z]+\\d\\w+\", my_string)"
   ]
  },
  {
   "cell_type": "code",
   "execution_count": null,
   "metadata": {},
   "outputs": [],
   "source": [
    "my_string = \"My&name&is#John Smith. I%live$in#London.\"\n",
    "re.sub(r\"[#$%&]\", \" \", my_string)"
   ]
  },
  {
   "cell_type": "code",
   "execution_count": null,
   "metadata": {},
   "outputs": [],
   "source": [
    "# ^ transforms the expression to negative\n",
    "my_links = \"Bad website: www.99.com. Favorite site: www.hola.com\"\n",
    "re.findall(r\"www[^0-9]+com\", my_links)"
   ]
  },
  {
   "cell_type": "code",
   "execution_count": null,
   "metadata": {},
   "outputs": [],
   "source": [
    "# Greedy matching\n",
    "# Greedy: match as many characters as possible\n",
    "# Return the longest match\n",
    "import re\n",
    "re.match(r\"\\d+\", \"12345bcada\")"
   ]
  },
  {
   "cell_type": "code",
   "execution_count": null,
   "metadata": {},
   "outputs": [],
   "source": [
    "# Non-greedy matching\n",
    "# Lazy: match as few characters as needed\n",
    "# Returns the shortest match\n",
    "# Append ? to greedy quantifers\n",
    "\n",
    "import re\n",
    "re.match(r\"\\d+?\", \"12345bcada\")"
   ]
  },
  {
   "cell_type": "markdown",
   "metadata": {},
   "source": [
    "# Positional formatting"
   ]
  },
  {
   "cell_type": "code",
   "execution_count": null,
   "metadata": {},
   "outputs": [],
   "source": [
    "custom_string = \"String formatting\"\n",
    "print(f\"{custom_string} is a powerful technique\")"
   ]
  },
  {
   "cell_type": "code",
   "execution_count": null,
   "metadata": {},
   "outputs": [],
   "source": [
    "# Placeholder replace by value\n",
    "print(\"Machine learning provides {}the ability to learn {}\".format(\"systems\", \"automatically\"))"
   ]
  },
  {
   "cell_type": "code",
   "execution_count": null,
   "metadata": {},
   "outputs": [],
   "source": [
    "# Use variables for both the initial string and the values passed into the method\n",
    "my_string = \"{} rely on {} datasets\"\n",
    "method = \"algorithms\"\n",
    "condition = \"labeled\"\n",
    "print(my_string.format(method, condition))"
   ]
  },
  {
   "cell_type": "code",
   "execution_count": null,
   "metadata": {},
   "outputs": [],
   "source": [
    "# Include an index number into the placeholders to reorder values\n",
    "print(\"{} has a friend called {} and a sister called {}\".format(\"Betty\", \"Linda\", \"Daisy\"))\n",
    "print(\"{2} has a friend called {0} and a sister called {1}\".format(\"Betty\", \"Linda\", \"Daisy\"))"
   ]
  },
  {
   "cell_type": "code",
   "execution_count": null,
   "metadata": {},
   "outputs": [],
   "source": [
    "# Named placeholders\n",
    "my_methods = {\"tool\": \"Unsupervised algorithms\", \"goal\": \"patterns\"}\n",
    "print('{data[tool]} try to find {data[goal]} in the dataset'.format(data=my_methods))"
   ]
  },
  {
   "cell_type": "code",
   "execution_count": null,
   "metadata": {},
   "outputs": [],
   "source": [
    "number = 90.41890417471841\n",
    "print(f\"In the last 2 years, {number:.4f}% of the data was produced worldwide!\")"
   ]
  },
  {
   "cell_type": "code",
   "execution_count": null,
   "metadata": {},
   "outputs": [],
   "source": [
    "my_number = 4\n",
    "my_multiplier = 7\n",
    "print(f'{my_number} multiplied by {my_multiplier} is {my_number * my_multiplier}')"
   ]
  },
  {
   "cell_type": "code",
   "execution_count": null,
   "metadata": {},
   "outputs": [],
   "source": []
  }
 ],
 "metadata": {
  "kernelspec": {
   "display_name": "Python 3",
   "language": "python",
   "name": "python3"
  },
  "language_info": {
   "codemirror_mode": {
    "name": "ipython",
    "version": 3
   },
   "file_extension": ".py",
   "mimetype": "text/x-python",
   "name": "python",
   "nbconvert_exporter": "python",
   "pygments_lexer": "ipython3",
   "version": "3.8.3"
  }
 },
 "nbformat": 4,
 "nbformat_minor": 4
}
