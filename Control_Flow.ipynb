{
 "cells": [
  {
   "cell_type": "code",
   "execution_count": null,
   "metadata": {},
   "outputs": [],
   "source": [
    "# This"
   ]
  },
  {
   "cell_type": "code",
   "execution_count": null,
   "metadata": {},
   "outputs": [],
   "source": [
    "if (5>6):\n",
    "    print (\"abc\")\n",
    "if(7>6):\n",
    "    print (\"def\")\n",
    "if(5>2):\n",
    "    print(\"ghi\")\n",
    "elif(2>1):\n",
    "    print(\"rty\")\n"
   ]
  },
  {
   "cell_type": "markdown",
   "metadata": {},
   "source": [
    "## This "
   ]
  },
  {
   "cell_type": "markdown",
   "metadata": {},
   "source": [
    "### This"
   ]
  },
  {
   "cell_type": "markdown",
   "metadata": {},
   "source": [
    "#### This"
   ]
  },
  {
   "cell_type": "code",
   "execution_count": null,
   "metadata": {},
   "outputs": [],
   "source": [
    "# This\n",
    "D = [8, 5, 3, 1,7,9]\n",
    "    \n",
    "print(D[ : :-3])"
   ]
  },
  {
   "cell_type": "code",
   "execution_count": null,
   "metadata": {},
   "outputs": [],
   "source": [
    "L = ['a', 'd', 'e', 't']\n",
    "k = L.copy()"
   ]
  },
  {
   "cell_type": "code",
   "execution_count": null,
   "metadata": {},
   "outputs": [],
   "source": [
    "k"
   ]
  },
  {
   "cell_type": "code",
   "execution_count": null,
   "metadata": {},
   "outputs": [],
   "source": [
    "my_list  = [\"I like\", \"oranges\"]\n",
    "print(\"-\".join(my_list))\n"
   ]
  },
  {
   "cell_type": "code",
   "execution_count": null,
   "metadata": {},
   "outputs": [],
   "source": [
    "List = [25, 12, 85, 66, 78]\n",
    "List[2:5] = [22, 89, 96]\n",
    "print( List)"
   ]
  },
  {
   "cell_type": "code",
   "execution_count": null,
   "metadata": {},
   "outputs": [],
   "source": [
    "List"
   ]
  },
  {
   "cell_type": "code",
   "execution_count": null,
   "metadata": {},
   "outputs": [],
   "source": [
    "q = (2, 9, 5, 6, 8, 7, 1)\n",
    "print(q[i] for i in range(0, len(q), 3))\n"
   ]
  },
  {
   "cell_type": "code",
   "execution_count": null,
   "metadata": {},
   "outputs": [],
   "source": [
    "z = [5, 9, 8, 3]\n",
    "z.append(6)"
   ]
  },
  {
   "cell_type": "code",
   "execution_count": null,
   "metadata": {},
   "outputs": [],
   "source": [
    "z"
   ]
  },
  {
   "cell_type": "code",
   "execution_count": null,
   "metadata": {},
   "outputs": [],
   "source": [
    "v1 = (5,8,7,6)\n",
    "v2 =(2,8,7,6)\n",
    "v1>v2"
   ]
  },
  {
   "cell_type": "code",
   "execution_count": null,
   "metadata": {},
   "outputs": [],
   "source": [
    "a = {10,15,20}\n",
    "b = {4,5,6}"
   ]
  },
  {
   "cell_type": "code",
   "execution_count": null,
   "metadata": {},
   "outputs": [],
   "source": [
    "a + b"
   ]
  },
  {
   "cell_type": "code",
   "execution_count": null,
   "metadata": {},
   "outputs": [],
   "source": [
    "s = [(10,12), (8,9), (25,30)]\n",
    "data = [[1,2,3], [4,5,6], [7,8,9]]\n",
    "\n",
    "print (sorted(s))  # sorts in place\n",
    "print (g)"
   ]
  },
  {
   "cell_type": "code",
   "execution_count": null,
   "metadata": {},
   "outputs": [],
   "source": [
    "a,b,c = 4,5,6"
   ]
  },
  {
   "cell_type": "code",
   "execution_count": null,
   "metadata": {},
   "outputs": [],
   "source": [
    "List"
   ]
  },
  {
   "cell_type": "code",
   "execution_count": null,
   "metadata": {},
   "outputs": [],
   "source": [
    "number = int(input(\"Enter the number\"))"
   ]
  },
  {
   "cell_type": "code",
   "execution_count": null,
   "metadata": {},
   "outputs": [],
   "source": [
    "if 5 > 6:\n",
    "    print (\"Avneesh\")"
   ]
  },
  {
   "cell_type": "code",
   "execution_count": null,
   "metadata": {},
   "outputs": [],
   "source": [
    "if 6 > 5:\n",
    "    print (\"Aakash\")\n",
    "else:\n",
    "    print (\"Avneesh\")"
   ]
  },
  {
   "cell_type": "code",
   "execution_count": null,
   "metadata": {},
   "outputs": [],
   "source": [
    "if 6>5:\n",
    "    print (\"abc\")\n",
    "if 9>8:\n",
    "    print (\"defi\")\n",
    "if 9>7:\n",
    "    print (\"klm\")\n"
   ]
  },
  {
   "cell_type": "code",
   "execution_count": null,
   "metadata": {},
   "outputs": [],
   "source": [
    "if 6>7:\n",
    "    print (\"abc\")\n",
    "elif 9>8: \n",
    "    print (\"defi\")\n",
    "elif 9>7:\n",
    "    print (\"klm\")\n",
    "else:\n",
    "    print (\"ghi\")"
   ]
  },
  {
   "cell_type": "code",
   "execution_count": null,
   "metadata": {},
   "outputs": [],
   "source": [
    "# If else statements\n",
    "number = int(input(\"Enter the number\"))\n",
    "if number < 0:\n",
    "    print (\"Number is less than 0\")\n",
    "elif number == 0:\n",
    "    print (\"Number is equal to 0\")\n",
    "elif number < 6:\n",
    "    print (\"Number is greater than 0 but less than \")\n",
    "else:\n",
    "    print (\"Number is greater than or equal to 6\")\n",
    "    "
   ]
  },
  {
   "cell_type": "code",
   "execution_count": null,
   "metadata": {},
   "outputs": [],
   "source": [
    "# \n",
    "# while loop\n",
    "# For loop "
   ]
  },
  {
   "cell_type": "code",
   "execution_count": null,
   "metadata": {},
   "outputs": [],
   "source": [
    "i = 0\n",
    "while (i < 10):\n",
    "    print (i)\n",
    "    i = i + 2"
   ]
  },
  {
   "cell_type": "code",
   "execution_count": null,
   "metadata": {},
   "outputs": [],
   "source": [
    "for i in range(7): # range (0,7,1)\n",
    "    print (i)\n",
    "    print (\"Aakash\")\n",
    "    print (\"Avneesh\")"
   ]
  },
  {
   "cell_type": "code",
   "execution_count": null,
   "metadata": {
    "scrolled": true
   },
   "outputs": [],
   "source": [
    "# Nested loop ( loop inside loop)\n",
    "# Iteration. \n",
    "for i in range(5):\n",
    "    print (\"iteration\",i+1)\n",
    "    for j in range(3):\n",
    "        print (\"i value\",i)\n",
    "        print (\"j value\",j)\n",
    "    "
   ]
  },
  {
   "cell_type": "code",
   "execution_count": null,
   "metadata": {},
   "outputs": [],
   "source": [
    "# syntax of range\n",
    "range(start,stop,step)\n",
    "start = (default value = 0)\n",
    "stop = 10\n",
    "step =  (default_value =1)"
   ]
  },
  {
   "cell_type": "code",
   "execution_count": null,
   "metadata": {},
   "outputs": [],
   "source": [
    "n = 3\n",
    "if n < 5:  # Indentation\n",
    "    print (\"a\")  "
   ]
  },
  {
   "cell_type": "code",
   "execution_count": null,
   "metadata": {},
   "outputs": [],
   "source": [
    "number = 6 \n",
    "#if number < 7:\n",
    "#    print (\"a\")\n",
    "else:\n",
    "    print (\"b\")"
   ]
  },
  {
   "cell_type": "code",
   "execution_count": null,
   "metadata": {},
   "outputs": [],
   "source": [
    "# For-loops # Iteration # Nested loops (loop inside loops)\n",
    "\n",
    "for i in range(6):\n",
    "    for j in range(i):\n",
    "        #print (\"i\",i)\n",
    "        #print (\"j\",j)\n",
    "        print (\"*\",end=\"\")\n",
    "    print (\"\\n\")\n",
    "'''    \n",
    "i = 0\n",
    "j = 0 \n",
    "=====\n",
    "i = 1\n",
    "j = 0\n",
    "*\n",
    "====\n",
    "i =2 \n",
    "j = 0\n",
    "*\n",
    "i =2\n",
    "j =1\n",
    "*\n",
    "=====\n",
    "i =3\n",
    "j =0\n",
    "*\n",
    "i =3\n",
    "j=1\n",
    "*\n",
    "i =3\n",
    "j =2\n",
    "\n",
    "======\n",
    "i =4 \n",
    "j = 0\n",
    "*\n",
    "i = 4\n",
    "j =1\n",
    "*\n",
    "\n",
    "\n",
    "J=3\n",
    "=======\n",
    "i =5\n",
    "j =0\n",
    "\n",
    "i = 5 \n",
    "j =1\n",
    "\n",
    "'''\n"
   ]
  },
  {
   "cell_type": "code",
   "execution_count": null,
   "metadata": {},
   "outputs": [],
   "source": [
    "#inverted triangle\n",
    "z=10\n",
    "m=9\n",
    "for k in range(z):\n",
    "    for s in range(m):\n",
    "        print (\"*\",end=\"\")\n",
    "    print('\\n')\n",
    "    m=m-1"
   ]
  },
  {
   "cell_type": "code",
   "execution_count": null,
   "metadata": {},
   "outputs": [],
   "source": [
    "for j in range(3):\n",
    "        print (\"i\",i)\n",
    "        print (\"j\",j)\n",
    "        print (\"*\",end=\"\")\n",
    "    print (\"\\n\")"
   ]
  },
  {
   "cell_type": "code",
   "execution_count": null,
   "metadata": {},
   "outputs": [],
   "source": [
    "len(\"ert\")"
   ]
  },
  {
   "cell_type": "code",
   "execution_count": null,
   "metadata": {},
   "outputs": [],
   "source": [
    "print (\"abc\",end=\"\")\n",
    "print (\"def\")"
   ]
  },
  {
   "cell_type": "code",
   "execution_count": null,
   "metadata": {},
   "outputs": [],
   "source": [
    "print (\"abc\",end=\"\")\n",
    "print (\"def\",end=\"\")\n",
    "print (\"\\n\")\n",
    "print (\"ghi\",end=\"\")"
   ]
  },
  {
   "cell_type": "code",
   "execution_count": null,
   "metadata": {},
   "outputs": [],
   "source": [
    "5%2"
   ]
  },
  {
   "cell_type": "code",
   "execution_count": null,
   "metadata": {},
   "outputs": [],
   "source": [
    "range(10)       -  [0,1,2,3,4,5,6,7,8,9]\n",
    "range (default= 0,10, default1)                i = 1"
   ]
  },
  {
   "cell_type": "code",
   "execution_count": null,
   "metadata": {},
   "outputs": [],
   "source": [
    "# Range function \n",
    "range (start,stop,step)\n",
    "range (11,10,1) "
   ]
  },
  {
   "cell_type": "code",
   "execution_count": null,
   "metadata": {},
   "outputs": [],
   "source": [
    "import sys\n",
    "sys.version"
   ]
  },
  {
   "cell_type": "code",
   "execution_count": null,
   "metadata": {},
   "outputs": [],
   "source": [
    "# While loops\n",
    "i = 1\n",
    "while i < 10:\n",
    "    print (i)\n",
    "    i = i+ 2"
   ]
  },
  {
   "cell_type": "markdown",
   "metadata": {},
   "source": [
    "# try exception in python"
   ]
  },
  {
   "cell_type": "code",
   "execution_count": null,
   "metadata": {},
   "outputs": [],
   "source": [
    "print (4/0)\n",
    "print (\"python\")\n",
    "print (\"jupyter\")"
   ]
  },
  {
   "cell_type": "code",
   "execution_count": null,
   "metadata": {},
   "outputs": [],
   "source": [
    "2 + '2'"
   ]
  },
  {
   "cell_type": "code",
   "execution_count": null,
   "metadata": {},
   "outputs": [],
   "source": [
    "print (7/0)"
   ]
  },
  {
   "cell_type": "code",
   "execution_count": null,
   "metadata": {},
   "outputs": [],
   "source": [
    "try:\n",
    "    print (2+'2')\n",
    "    print (4/0)\n",
    "except ZeroDivisionError:\n",
    "    print (\"division by zero is not allowed\")\n",
    "except TypeError:\n",
    "    print ('Check datatypes of operands')\n",
    "finally:\n",
    "    print (\"Bye! see you again\")\n",
    "\n",
    "print (\"python\")\n",
    "print(\"jupyter\")"
   ]
  },
  {
   "cell_type": "code",
   "execution_count": null,
   "metadata": {},
   "outputs": [],
   "source": [
    "\n",
    "try:\n",
    "    \n",
    "    print (4/0)\n",
    "\n",
    "except ZeroDivisionError:\n",
    "    print (\"This is zero division error, don't divide by zero it will give error\")\n",
    "\n",
    "print (\"Bashistha\")  \n",
    "print \n",
    "\n",
    "\n"
   ]
  },
  {
   "cell_type": "code",
   "execution_count": null,
   "metadata": {},
   "outputs": [],
   "source": [
    "x = 300000\n",
    "if x > 200000:\n",
    "    raise Exception('X should not exceed 200000 , got {}'.format(x))"
   ]
  },
  {
   "cell_type": "code",
   "execution_count": 1,
   "metadata": {},
   "outputs": [
    {
     "name": "stdout",
     "output_type": "stream",
     "text": [
      "This is zero division error, don't divide by zero it will give error\n"
     ]
    }
   ],
   "source": [
    "# You can define as many exception blocks as you want, e.g. if you want to execute a special\n",
    "# block of code for a special kind of error:\n",
    "    \n",
    "exception_message = ''\n",
    "\n",
    "try:\n",
    "    print(7/0)\n",
    "    \n",
    "except NameError:\n",
    "    exception_message = 'Variable is not defined'\n",
    "    print (exception_message)\n",
    "\n",
    "except ZeroDivisionError:\n",
    "    print (\"This is zero division error, don't divide by zero it will give error\")"
   ]
  },
  {
   "cell_type": "code",
   "execution_count": null,
   "metadata": {},
   "outputs": [],
   "source": [
    "print(not_existing_variable)"
   ]
  },
  {
   "cell_type": "code",
   "execution_count": null,
   "metadata": {},
   "outputs": [],
   "source": [
    "a =2\n",
    "#a= a+2 \n",
    "a+=2\n",
    "print (a)\n"
   ]
  },
  {
   "cell_type": "code",
   "execution_count": 2,
   "metadata": {},
   "outputs": [
    {
     "name": "stdout",
     "output_type": "stream",
     "text": [
      "SuccessNothing went wrong.\n"
     ]
    }
   ],
   "source": [
    "message = ''\n",
    "    # pylint: disable=broad-except\n",
    "try:\n",
    "    message += 'Success' # message = message + 'Success.'\n",
    "except NameError:\n",
    "    message += 'Something went wrong.'\n",
    "    print (message)\n",
    "else:\n",
    "    message += 'Nothing went wrong.'\n",
    "    print (message)"
   ]
  },
  {
   "cell_type": "code",
   "execution_count": null,
   "metadata": {},
   "outputs": [],
   "source": [
    "message=''\n",
    "message += 'Success.'\n",
    "print (message)"
   ]
  },
  {
   "cell_type": "code",
   "execution_count": 4,
   "metadata": {},
   "outputs": [
    {
     "name": "stdout",
     "output_type": "stream",
     "text": [
      "Something went wrong.The \"try except\" is finished.\n"
     ]
    }
   ],
   "source": [
    "    # Finally will get in all cases\n",
    "    message1 = ''\n",
    "    try:\n",
    "        # pylint: undefined-variable\n",
    "        print(not_existing_variable)  \n",
    "    except NameError:\n",
    "        message1 += 'Something went wrong.' \n",
    "        # message1 = '' + \"something went wrong\"\n",
    "        # message1 = \"something went wrong\"  \n",
    "    finally:\n",
    "        message1 += 'The \"try except\" is finished.'\n",
    "        #message1 = \"something went wrong\"+ \"'The \"try except\" is finished.'\"\"\n",
    "        print (message1)"
   ]
  },
  {
   "cell_type": "code",
   "execution_count": 7,
   "metadata": {},
   "outputs": [
    {
     "name": "stdout",
     "output_type": "stream",
     "text": [
      "Something went wrong.Bye! Have a good day\n"
     ]
    }
   ],
   "source": [
    "    message1 = ''\n",
    "    try:\n",
    "        \n",
    "        print(not_existing_variable)  \n",
    "\n",
    "    except NameError:\n",
    "        message1 += 'Something went wrong.'\n",
    "  \n",
    "    else:\n",
    "        message1 += 'Nothing went wrong.'\n",
    "        print (message1)  \n",
    "    \n",
    "    finally:\n",
    "        message1 += 'Bye! Have a good day'\n",
    "        print (message1)   "
   ]
  },
  {
   "cell_type": "code",
   "execution_count": 5,
   "metadata": {},
   "outputs": [],
   "source": [
    "#somet Bye\n",
    "#"
   ]
  },
  {
   "cell_type": "code",
   "execution_count": 6,
   "metadata": {},
   "outputs": [
    {
     "ename": "SyntaxError",
     "evalue": "positional argument follows keyword argument (<ipython-input-6-6895699acf28>, line 1)",
     "output_type": "error",
     "traceback": [
      "\u001b[0;36m  File \u001b[0;32m\"<ipython-input-6-6895699acf28>\"\u001b[0;36m, line \u001b[0;32m1\u001b[0m\n\u001b[0;31m    range (start =0,stop,step=1 )\u001b[0m\n\u001b[0m                    ^\u001b[0m\n\u001b[0;31mSyntaxError\u001b[0m\u001b[0;31m:\u001b[0m positional argument follows keyword argument\n"
     ]
    }
   ],
   "source": [
    "range (start =0,stop,step=1 )\n",
    "range (0,10,1)\n",
    "Iteration"
   ]
  },
  {
   "cell_type": "code",
   "execution_count": 8,
   "metadata": {},
   "outputs": [
    {
     "name": "stdout",
     "output_type": "stream",
     "text": [
      "0\n",
      "1\n",
      "2\n",
      "3\n",
      "4\n",
      "5\n",
      "6\n",
      "7\n",
      "8\n",
      "9\n"
     ]
    }
   ],
   "source": [
    "for i in range(10):\n",
    "    print (i)\n",
    "    "
   ]
  },
  {
   "cell_type": "code",
   "execution_count": 11,
   "metadata": {},
   "outputs": [
    {
     "name": "stdout",
     "output_type": "stream",
     "text": [
      "aa\n",
      "0\n",
      "aa\n",
      "1\n",
      "aa\n",
      "2\n",
      "aa\n",
      "3\n",
      "aa\n",
      "4\n",
      "aa\n",
      "6\n",
      "aa\n",
      "7\n",
      "aa\n",
      "8\n",
      "aa\n",
      "9\n"
     ]
    }
   ],
   "source": [
    "# continue statement means to skip the line beolw it in current iteration \n",
    "for i in range(10):\n",
    "    if (i==5):\n",
    "        continue\n",
    "    print (\"aa\")\n",
    "    print (i)\n",
    "    \n"
   ]
  },
  {
   "cell_type": "code",
   "execution_count": 14,
   "metadata": {},
   "outputs": [
    {
     "name": "stdout",
     "output_type": "stream",
     "text": [
      "0\n",
      "1\n",
      "2\n",
      "3\n",
      "4\n",
      "5\n",
      "6\n",
      "7\n",
      "8\n",
      "9\n"
     ]
    }
   ],
   "source": [
    "# break statement (It ends the loop immediately when it is encountered)\n",
    "for i in range(10):\n",
    "    if i == 100:\n",
    "        break\n",
    "    print (i)\n"
   ]
  },
  {
   "cell_type": "code",
   "execution_count": null,
   "metadata": {},
   "outputs": [],
   "source": []
  }
 ],
 "metadata": {
  "kernelspec": {
   "display_name": "Python 3",
   "language": "python",
   "name": "python3"
  },
  "language_info": {
   "codemirror_mode": {
    "name": "ipython",
    "version": 3
   },
   "file_extension": ".py",
   "mimetype": "text/x-python",
   "name": "python",
   "nbconvert_exporter": "python",
   "pygments_lexer": "ipython3",
   "version": "3.8.3"
  }
 },
 "nbformat": 4,
 "nbformat_minor": 2
}
