{
 "cells": [
  {
   "cell_type": "code",
   "execution_count": null,
   "metadata": {
    "collapsed": true
   },
   "outputs": [],
   "source": [
    "\"\"\"Arithmetic operators\"\"\"\n",
    "print (5+2)# operands\n",
    "print (5-2)\n",
    "print (5*2)# multiplication\n",
    "print (5/2)\n",
    "print (7%3) # Modulus - Remainder\n",
    "print (5**3)# exponent \n",
    "print (5//2)# Floor division"
   ]
  },
  {
   "cell_type": "code",
   "execution_count": null,
   "metadata": {
    "collapsed": true
   },
   "outputs": [],
   "source": [
    "9//4 \n"
   ]
  },
  {
   "cell_type": "code",
   "execution_count": 18,
   "metadata": {},
   "outputs": [
    {
     "name": "stdout",
     "output_type": "stream",
     "text": [
      "<class 'float'>\n"
     ]
    },
    {
     "data": {
      "text/plain": [
       "10.0"
      ]
     },
     "execution_count": 18,
     "metadata": {},
     "output_type": "execute_result"
    }
   ],
   "source": [
    "# Typecasting\n",
    "a = float(\"5\")\n",
    "print (type(a))\n",
    "a+5"
   ]
  },
  {
   "cell_type": "code",
   "execution_count": 20,
   "metadata": {},
   "outputs": [
    {
     "name": "stdout",
     "output_type": "stream",
     "text": [
      "How many sweets you need5\n",
      "<class 'int'>\n",
      "2.5\n"
     ]
    }
   ],
   "source": [
    "sweet = int(input(\"How many sweets you need\"))\n",
    "print (type(sweet))\n",
    "total_sweets = sweet/2 \n",
    "print (total_sweets)"
   ]
  },
  {
   "cell_type": "code",
   "execution_count": null,
   "metadata": {
    "collapsed": true
   },
   "outputs": [],
   "source": [
    "var = input(\"enter the string\")\n",
    "if (type(var) == 'str'):\n",
    "    print (\"string\")\n",
    "elif (type(var) == 'int'):\n",
    "    print(\"integer\")\n",
    "else:\n",
    "    print (\"float\")"
   ]
  },
  {
   "cell_type": "code",
   "execution_count": null,
   "metadata": {
    "collapsed": true
   },
   "outputs": [],
   "source": [
    "& - # Bitwise And Operator\n",
    "| - # Bitwise OR operator\n",
    "^ - # Bitwise XOR operator"
   ]
  },
  {
   "cell_type": "code",
   "execution_count": null,
   "metadata": {
    "collapsed": true
   },
   "outputs": [],
   "source": [
    "    128  64   32  16   8  4  2    1\n",
    "-   0     0    0   0   0  1  1    1 \n",
    " -  0     0    1   0   0  0  1    1  =35\n",
    "    0x128 +0x64+0 +0  +0+1x4+1x2+1x1 = 7\n",
    "    "
   ]
  },
  {
   "cell_type": "code",
   "execution_count": null,
   "metadata": {
    "collapsed": true
   },
   "outputs": [],
   "source": [
    "int (35/2)   #Q = 17 remainder = 1"
   ]
  },
  {
   "cell_type": "code",
   "execution_count": null,
   "metadata": {
    "collapsed": true
   },
   "outputs": [],
   "source": [
    "int(17/2) # Q = 8 remainder = 1"
   ]
  },
  {
   "cell_type": "code",
   "execution_count": null,
   "metadata": {
    "collapsed": true
   },
   "outputs": [],
   "source": [
    "int (8/2) # Q =4, remainder = 0"
   ]
  },
  {
   "cell_type": "code",
   "execution_count": null,
   "metadata": {
    "collapsed": true
   },
   "outputs": [],
   "source": [
    "int (4/2) # Q = 2 R =0\n"
   ]
  },
  {
   "cell_type": "code",
   "execution_count": null,
   "metadata": {
    "collapsed": true
   },
   "outputs": [],
   "source": [
    "int (2/2) # Q = 1 R = 0"
   ]
  },
  {
   "cell_type": "code",
   "execution_count": null,
   "metadata": {
    "collapsed": true
   },
   "outputs": [],
   "source": [
    "int (1/2) #Q = 0 R = 1"
   ]
  },
  {
   "cell_type": "code",
   "execution_count": null,
   "metadata": {
    "collapsed": true
   },
   "outputs": [],
   "source": [
    "01001111\n",
    "0*2**7 + 1*2**6 + 0*2**5 + 0*2**4 + 1*2**3 + 1*2**2 + 1*2**1+ 1*2**0 =       \n",
    "0      +  64     +  0    +  0      + 8      + 4     + 2    +  1      = 79\n",
    "\n",
    "1*2**3 = 1x2x2x2 = 8\n",
    "1*2**0 = 1x1 = 1\n",
    "1*2**6 = "
   ]
  },
  {
   "cell_type": "code",
   "execution_count": 4,
   "metadata": {},
   "outputs": [
    {
     "name": "stdout",
     "output_type": "stream",
     "text": [
      "11\n"
     ]
    }
   ],
   "source": [
    "print (7^12)"
   ]
  },
  {
   "cell_type": "code",
   "execution_count": null,
   "metadata": {
    "collapsed": true
   },
   "outputs": [],
   "source": [
    "7  -   0  0  0  0  0  1  1  1\n",
    "12 -   0  0  0  0  1  1  0  0\n",
    "                    \n",
    "7&12 - 0  0  0  0  0  1  0  0\n",
    "7|12 - 0  0  0  0  1  1  1  1\n",
    "7^12 - 0  0  0  0  1  0  1  1 "
   ]
  },
  {
   "cell_type": "code",
   "execution_count": null,
   "metadata": {
    "collapsed": true
   },
   "outputs": [],
   "source": [
    "8 -  00001000\n",
    "9 -  00001001\n",
    "8&9- 00001000 \n",
    "      0*2**7 + 0*2**6 + 0*2**5 + 0*2**4 + 1*2**3 + 0*2**2 + 0*2**1+ 0*2**0  \n",
    "    \n",
    "(2 raised to the power 2) 2*2 = 4\n",
    "(2 raised to the power 3)2*2*2  = 2**3= 8\n",
    "(2 raised to the power 4)2*2*2*2 = 2**4= 16\n",
    "(5 raised to the power 6) 5*5*5*5*5*5 =5**6 = "
   ]
  },
  {
   "cell_type": "code",
   "execution_count": null,
   "metadata": {
    "collapsed": true
   },
   "outputs": [],
   "source": [
    "0*2**7 + 0*2**6 + 0*2**5 + 0*2**4 + 1*2**3 + 0*2**2 + 0*2**1+ 0*2**0"
   ]
  },
  {
   "cell_type": "code",
   "execution_count": null,
   "metadata": {
    "collapsed": true
   },
   "outputs": [],
   "source": [
    "\"\"\"Bitwise operators\"\"\"\n",
    "# 8 = 1000\n",
    "# 7 =  \n",
    "#5 = 00000101\n",
    "#7 = 00000111\n",
    "#5 |7 =       00000111  \n",
    "#5 = 00000101 >> 00001010\n",
    "#3 = 00000011\n",
    "# 5 ^3 =     00000110\n",
    "#5 & 3 =     00000001\n",
    "#5 |7 = \n",
    "#5\n",
    "\n",
    "\n",
    " \n",
    "AND GATE\n",
    "power-----switch-----switch-----bulb\n",
    "            0        \n",
    "#OR (running)\n",
    "1 1 = 1\n",
    "1 0 = 1\n",
    "0 1 = 1\n",
    "0 0 = 0\n",
    "\n",
    "# AND (badminton)\n",
    "1 1 = 1\n",
    "1 0 = 0\n",
    "0 1 = 0\n",
    "0 0 = 0\n",
    "\n",
    "#XOR (single player computer games)\n",
    "1 1 = 0\n",
    "0 0 = 0\n",
    "1 0 = 1\n",
    "0 1 = 1\n",
    " \n",
    "              128 64 32 16 8 4 2 1   ----6\n",
    "                 0 0 0 0 0 1 0 1 0   ----10\n",
    "print (5&3) #AND\n",
    "print (5|7)# OR\n",
    "print (5^3)#XOR (Exclusive OR)\n",
    "print (5>>1)# Shift right by 1\n",
    "print (5>>2)# Shift right by 2\n",
    "print (5<<1)# shift left by 1"
   ]
  },
  {
   "cell_type": "code",
   "execution_count": null,
   "metadata": {
    "collapsed": true
   },
   "outputs": [],
   "source": [
    "8/2 # 0001   8 = 00001000 \n",
    "          # 12 = 00001100"
   ]
  },
  {
   "cell_type": "code",
   "execution_count": null,
   "metadata": {
    "collapsed": true
   },
   "outputs": [],
   "source": [
    "8 -   0    0   0 0  1 1 0 1\n",
    "8 -  128  64  32 16 8 4 2 1\n",
    "\n",
    "10 - 00001010\n",
    "13 -            128 64 32 16 8 4 2 1\n",
    "                  0    000   1 1 1 0 -14     \n",
    "\n",
    "\n",
    "16 - 000"
   ]
  },
  {
   "cell_type": "code",
   "execution_count": 25,
   "metadata": {},
   "outputs": [
    {
     "name": "stdout",
     "output_type": "stream",
     "text": [
      "11\n"
     ]
    }
   ],
   "source": [
    "print (7^12)\n"
   ]
  },
  {
   "cell_type": "code",
   "execution_count": null,
   "metadata": {
    "collapsed": true
   },
   "outputs": [],
   "source": [
    "2/2"
   ]
  },
  {
   "cell_type": "code",
   "execution_count": null,
   "metadata": {
    "collapsed": true
   },
   "outputs": [],
   "source": [
    "# Assignment operator\n",
    "a=5\n",
    "b = a+5 \n",
    "a+=5 # shorthand a = a + 5 \n",
    "print (a)"
   ]
  },
  {
   "cell_type": "code",
   "execution_count": null,
   "metadata": {
    "collapsed": true
   },
   "outputs": [],
   "source": [
    "a = 5 \n",
    "a+=8  # shorthand representation (a = a + 8)\n",
    "a"
   ]
  },
  {
   "cell_type": "code",
   "execution_count": null,
   "metadata": {
    "collapsed": true
   },
   "outputs": [],
   "source": [
    "# comparison operator\n",
    "num = 5\n",
    "print (num == 5) # 5 == 5 EQUAL OPERATOR\n",
    "print (num!=5) # NOT EQUAL\n",
    "print (num < 5)\n",
    "print (num > 5)\n",
    "print (num <= 5)\n",
    "print (num >=5)"
   ]
  },
  {
   "cell_type": "code",
   "execution_count": null,
   "metadata": {
    "collapsed": true
   },
   "outputs": [],
   "source": [
    "num = 5 \n",
    "print (num <= 5)"
   ]
  },
  {
   "cell_type": "code",
   "execution_count": null,
   "metadata": {
    "collapsed": true
   },
   "outputs": [],
   "source": [
    "# Logical operators (combines conditional statements)\n",
    "num1 = 7\n",
    "num2 = 9\n",
    "print (num1 > 6 and num1 < 1) # True\n",
    "print (num1 < 5 or num1 < 20)  # True"
   ]
  },
  {
   "cell_type": "code",
   "execution_count": 24,
   "metadata": {},
   "outputs": [
    {
     "name": "stdout",
     "output_type": "stream",
     "text": [
      "True\n",
      "False\n",
      "True\n"
     ]
    }
   ],
   "source": [
    "# Membership operator\n",
    "list1 = ['pen','book'] # LIST\n",
    "\n",
    "print ('pen' in list1)\n",
    "print ('pen_new'in list1)\n",
    "print ('pen1' not in list1)"
   ]
  },
  {
   "cell_type": "code",
   "execution_count": null,
   "metadata": {
    "collapsed": true
   },
   "outputs": [],
   "source": [
    "type(list1)"
   ]
  },
  {
   "cell_type": "code",
   "execution_count": null,
   "metadata": {
    "collapsed": true
   },
   "outputs": [],
   "source": [
    "a = 'Python'\n",
    "b = 'Py'\n",
    "print (b not in a)"
   ]
  },
  {
   "cell_type": "code",
   "execution_count": null,
   "metadata": {
    "collapsed": true
   },
   "outputs": [],
   "source": [
    "if (5>2 and 2<6):\n",
    "    print (\"Avneesh Aakash\")"
   ]
  },
  {
   "cell_type": "code",
   "execution_count": null,
   "metadata": {
    "collapsed": true
   },
   "outputs": [],
   "source": [
    "6 || 7"
   ]
  },
  {
   "cell_type": "code",
   "execution_count": null,
   "metadata": {
    "collapsed": true
   },
   "outputs": [],
   "source": [
    "f1 = \"\"\n",
    "a1 = input(\"enter first name\")\n",
    "Last_name = input(\"enter last name\")\n",
    "print (a1 + Last_name)"
   ]
  },
  {
   "cell_type": "code",
   "execution_count": 1,
   "metadata": {},
   "outputs": [
    {
     "name": "stdout",
     "output_type": "stream",
     "text": [
      "Enter nameAvneesh\n",
      "Hello Avneesh\n"
     ]
    }
   ],
   "source": [
    "name = input(\"Enter name\")\n",
    "print (\"Hello \" + name )"
   ]
  },
  {
   "cell_type": "code",
   "execution_count": 2,
   "metadata": {},
   "outputs": [
    {
     "data": {
      "text/plain": [
       "'AvneeshAakash'"
      ]
     },
     "execution_count": 2,
     "metadata": {},
     "output_type": "execute_result"
    }
   ],
   "source": [
    "\"Avneesh\" + \"Aakash\""
   ]
  },
  {
   "cell_type": "code",
   "execution_count": null,
   "metadata": {
    "collapsed": true
   },
   "outputs": [],
   "source": [
    "number_of_pizzas = eval(input(\"How many pizzas do you want? \"))"
   ]
  },
  {
   "cell_type": "code",
   "execution_count": null,
   "metadata": {
    "collapsed": true
   },
   "outputs": [],
   "source": [
    "number_of_pizzas = input(\"How many pizzas do you want? \")"
   ]
  },
  {
   "cell_type": "code",
   "execution_count": null,
   "metadata": {
    "collapsed": true
   },
   "outputs": [],
   "source": [
    "print (7 & 10)"
   ]
  },
  {
   "cell_type": "code",
   "execution_count": null,
   "metadata": {
    "collapsed": true
   },
   "outputs": [],
   "source": [
    "# Precedence of operators\n",
    "# upper group has higher precedence than the lower ones\n",
    "# Almost all the operators have left-to-right associativity.\n",
    "# Note: Exponent operator ** has right-to-left associativity in Python.\n",
    "'''\n",
    "()           Parentheses\n",
    "**           Exponent\n",
    "+x, -x, ~x   Unary plus, Unary minus, Bitwise NOT\n",
    "*, /, //, %  Multiplication, Division, Floor division, Modulus\n",
    "+, -         Addition, Subtraction\n",
    "<<, >>       Bitwise shift operators\n",
    "&            Bitwise AND\n",
    "^            Bitwise XOR\n",
    "|            Bitwise OR\n",
    "==, !=, >, >=, <, <=, is, is not, in, not in   Comparisons, Identity, Membership operators\n",
    "not          Logical NOT\n",
    "and          Logical AND\n",
    "or           Logical OR\n",
    "'''"
   ]
  },
  {
   "cell_type": "code",
   "execution_count": 4,
   "metadata": {},
   "outputs": [
    {
     "data": {
      "text/plain": [
       "-13"
      ]
     },
     "execution_count": 4,
     "metadata": {},
     "output_type": "execute_result"
    }
   ],
   "source": [
    "2-3*5 \n",
    "2-(3*5)\n",
    "2 - 15\n",
    "-13\n",
    "\n",
    "# -13  13"
   ]
  },
  {
   "cell_type": "code",
   "execution_count": 5,
   "metadata": {},
   "outputs": [
    {
     "data": {
      "text/plain": [
       "-2"
      ]
     },
     "execution_count": 5,
     "metadata": {},
     "output_type": "execute_result"
    }
   ],
   "source": [
    "2 + 5 - 7 - 2"
   ]
  },
  {
   "cell_type": "code",
   "execution_count": null,
   "metadata": {
    "collapsed": true
   },
   "outputs": [],
   "source": [
    "print (7 or 9)"
   ]
  },
  {
   "cell_type": "code",
   "execution_count": 6,
   "metadata": {},
   "outputs": [
    {
     "data": {
      "text/plain": [
       "512"
      ]
     },
     "execution_count": 6,
     "metadata": {},
     "output_type": "execute_result"
    }
   ],
   "source": [
    "# Exponent Right to left associativity\n",
    "2**3**2 #= 8 **2 =64  = 2 to the power  9 = 512\n",
    "\n",
    "3 ** 2 = 3x3 = 9 \n",
    "\n",
    "2 ** 9 = 2x2x2x2x2x2x2x2x2 = 512"
   ]
  },
  {
   "cell_type": "code",
   "execution_count": 2,
   "metadata": {},
   "outputs": [
    {
     "data": {
      "text/plain": [
       "512"
      ]
     },
     "execution_count": 2,
     "metadata": {},
     "output_type": "execute_result"
    }
   ],
   "source": [
    "2**3**2"
   ]
  },
  {
   "cell_type": "code",
   "execution_count": 8,
   "metadata": {},
   "outputs": [
    {
     "data": {
      "text/plain": [
       "3.0"
      ]
     },
     "execution_count": 8,
     "metadata": {},
     "output_type": "execute_result"
    }
   ],
   "source": [
    "2*(3/2)"
   ]
  },
  {
   "cell_type": "code",
   "execution_count": null,
   "metadata": {
    "collapsed": true
   },
   "outputs": [],
   "source": [
    "2**3**2 #64\n",
    "\n",
    "2**3 = 2x2x2 = 8\n",
    "\n",
    "(2**3) **2 = \n",
    "8  ** 2  =  8x8 = 64"
   ]
  },
  {
   "cell_type": "code",
   "execution_count": null,
   "metadata": {
    "collapsed": true
   },
   "outputs": [],
   "source": [
    "2**(3**2)"
   ]
  },
  {
   "cell_type": "code",
   "execution_count": null,
   "metadata": {
    "collapsed": true
   },
   "outputs": [],
   "source": [
    "print (7|10)"
   ]
  },
  {
   "cell_type": "code",
   "execution_count": null,
   "metadata": {
    "collapsed": true
   },
   "outputs": [],
   "source": [
    "** - Exponent operator\n",
    "& - Bitwise AND operator\n",
    "| - Bitwise OR operator\n",
    "^ - Bitwise XOR operator"
   ]
  },
  {
   "cell_type": "code",
   "execution_count": null,
   "metadata": {
    "collapsed": true
   },
   "outputs": [],
   "source": [
    "print (34^6)"
   ]
  },
  {
   "cell_type": "code",
   "execution_count": null,
   "metadata": {
    "collapsed": true
   },
   "outputs": [],
   "source": [
    "128 64  32 16   8  4  2  1  -- \n",
    "                0*2**3   1*2**2   0*2**1   0* 2**0\n",
    "0   0   1   0   0  1  0  0    - 4 + 32 = 36\n",
    "0   1   0   1   0  0  1  0    - 64 + 16 + 2 = 82"
   ]
  }
 ],
 "metadata": {
  "kernelspec": {
   "display_name": "Python 3",
   "language": "python",
   "name": "python3"
  },
  "language_info": {
   "codemirror_mode": {
    "name": "ipython",
    "version": 3
   },
   "file_extension": ".py",
   "mimetype": "text/x-python",
   "name": "python",
   "nbconvert_exporter": "python",
   "pygments_lexer": "ipython3",
   "version": "3.6.9"
  },
  "widgets": {
   "application/vnd.jupyter.widget-state+json": {
    "state": {},
    "version_major": 1,
    "version_minor": 0
   }
  }
 },
 "nbformat": 4,
 "nbformat_minor": 2
}
